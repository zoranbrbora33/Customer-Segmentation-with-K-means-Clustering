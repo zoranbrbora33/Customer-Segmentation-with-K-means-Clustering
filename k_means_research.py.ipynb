{
 "cells": [
  {
   "cell_type": "code",
   "execution_count": 1,
   "id": "fcc6b9f0",
   "metadata": {},
   "outputs": [],
   "source": [
    "import pandas as pd\n",
    "from sklearn.cluster import KMeans\n",
    "import matplotlib.pyplot as plt"
   ]
  },
  {
   "cell_type": "code",
   "execution_count": 2,
   "id": "2442fd86",
   "metadata": {},
   "outputs": [],
   "source": [
    "df = pd.read_csv('customers.csv')"
   ]
  },
  {
   "cell_type": "code",
   "execution_count": 3,
   "id": "d22f0f12",
   "metadata": {},
   "outputs": [],
   "source": [
    "# feature selection\n",
    "X = df[['Annual_Income', 'Spending_Score']]"
   ]
  },
  {
   "cell_type": "code",
   "execution_count": 4,
   "id": "279c3810",
   "metadata": {},
   "outputs": [],
   "source": [
    "# max number of clusters\n",
    "max_clusters = 10"
   ]
  },
  {
   "cell_type": "code",
   "execution_count": 5,
   "id": "ad1b048c",
   "metadata": {},
   "outputs": [],
   "source": [
    "# list to save inertia\n",
    "inertias = []  "
   ]
  },
  {
   "cell_type": "code",
   "execution_count": 6,
   "id": "bbe5871d",
   "metadata": {},
   "outputs": [],
   "source": [
    "# testing of clusters\n",
    "for num_clusters in range(1, max_clusters + 1):\n",
    "    # kmeans model with different number of clusters\n",
    "    kmeans = KMeans(n_clusters=num_clusters)\n",
    "    # data grouping\n",
    "    kmeans.fit(X)\n",
    "\n",
    "    # calculation of inertia\n",
    "    inertia = kmeans.inertia_\n",
    "    # adding inertia to the list\n",
    "    inertias.append(inertia)"
   ]
  },
  {
   "cell_type": "code",
   "execution_count": null,
   "id": "e61e31e0",
   "metadata": {},
   "outputs": [],
   "source": [
    "# crtanje inercije\n",
    "plt.plot(range(1, max_clusters + 1), inertias, marker='o')\n",
    "plt.xlabel('Broj klastera')\n",
    "plt.ylabel('Inercija')\n",
    "plt.title('Ovisnost inercije o broju klastera')\n",
    "plt.show()"
   ]
  }
 ],
 "metadata": {
  "kernelspec": {
   "display_name": "Python 3 (ipykernel)",
   "language": "python",
   "name": "python3"
  },
  "language_info": {
   "codemirror_mode": {
    "name": "ipython",
    "version": 3
   },
   "file_extension": ".py",
   "mimetype": "text/x-python",
   "name": "python",
   "nbconvert_exporter": "python",
   "pygments_lexer": "ipython3",
   "version": "3.9.12"
  }
 },
 "nbformat": 4,
 "nbformat_minor": 5
}
